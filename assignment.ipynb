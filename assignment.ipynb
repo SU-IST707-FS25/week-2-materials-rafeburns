{
 "cells": [
  {
   "cell_type": "markdown",
   "id": "8110fc71",
   "metadata": {
    "problem_id": "ex1"
   },
   "source": [
    "#### Exercise 1\n",
    "<!-- @q -->\n",
    "\n",
    "1. What kinds of EDA techniques might you use to explore the following types of data:\n",
    "    - Numeric data?  \n",
    "    - Categorical data?  \n",
    "    - The relationship between categorical and numeric data?"
   ]
  },
  {
   "cell_type": "markdown",
   "id": "813b98cf",
   "metadata": {
    "part_id": "ex1-part1",
    "span": "ex1-part1.answer",
    "student": true
   },
   "source": [
    "Numeric Data - Summary statistics such as the mean, median, min, max, or standard deviation can show how a dataset is spread or centered. Additionally, histograms can be used to look at the distribution of a dataset. Boxplots can also be used to examine if there are outliers in the dataset, while also showing the spread.\n",
    "\n",
    "Categorical Data - Frequency counts or bar plots can show the distribution of categories across a dataset.\n",
    "\n",
    "Relationship Between Numeric and Categorical - Anova tests or T-Tests can show if there are significant differences across groups. Additionally, summary statistics can be used that are grouped by category to examine the spread and centrality."
   ]
  },
  {
   "cell_type": "markdown",
   "id": "e5af7624",
   "metadata": {
    "part_id": "ex1-part2"
   },
   "source": [
    "2. Generate some fake data (~1000 rows) with 1 categorical column (with 10 categories) and 2 numeric columns. Use the techniques you mentioned to explore the numeric, categorical, and the relationship between them."
   ]
  },
  {
   "cell_type": "code",
   "execution_count": 34,
   "id": "b78018a6",
   "metadata": {
    "additional_cells_expected": true,
    "part_id": "ex1-part2",
    "span": "ex1-part2.code",
    "student": true
   },
   "outputs": [
    {
     "data": {
      "text/html": [
       "<div>\n",
       "<style scoped>\n",
       "    .dataframe tbody tr th:only-of-type {\n",
       "        vertical-align: middle;\n",
       "    }\n",
       "\n",
       "    .dataframe tbody tr th {\n",
       "        vertical-align: top;\n",
       "    }\n",
       "\n",
       "    .dataframe thead th {\n",
       "        text-align: right;\n",
       "    }\n",
       "</style>\n",
       "<table border=\"1\" class=\"dataframe\">\n",
       "  <thead>\n",
       "    <tr style=\"text-align: right;\">\n",
       "      <th></th>\n",
       "      <th>categorical_column</th>\n",
       "      <th>numeric_column_1</th>\n",
       "      <th>numeric_column_2</th>\n",
       "    </tr>\n",
       "  </thead>\n",
       "  <tbody>\n",
       "    <tr>\n",
       "      <th>0</th>\n",
       "      <td>J</td>\n",
       "      <td>10.103160</td>\n",
       "      <td>21.953176</td>\n",
       "    </tr>\n",
       "    <tr>\n",
       "      <th>1</th>\n",
       "      <td>H</td>\n",
       "      <td>8.448715</td>\n",
       "      <td>21.115959</td>\n",
       "    </tr>\n",
       "    <tr>\n",
       "      <th>2</th>\n",
       "      <td>A</td>\n",
       "      <td>10.573965</td>\n",
       "      <td>20.639162</td>\n",
       "    </tr>\n",
       "    <tr>\n",
       "      <th>3</th>\n",
       "      <td>D</td>\n",
       "      <td>9.602346</td>\n",
       "      <td>19.095692</td>\n",
       "    </tr>\n",
       "    <tr>\n",
       "      <th>4</th>\n",
       "      <td>G</td>\n",
       "      <td>10.596851</td>\n",
       "      <td>19.742418</td>\n",
       "    </tr>\n",
       "    <tr>\n",
       "      <th>...</th>\n",
       "      <td>...</td>\n",
       "      <td>...</td>\n",
       "      <td>...</td>\n",
       "    </tr>\n",
       "    <tr>\n",
       "      <th>995</th>\n",
       "      <td>B</td>\n",
       "      <td>10.737680</td>\n",
       "      <td>16.773570</td>\n",
       "    </tr>\n",
       "    <tr>\n",
       "      <th>996</th>\n",
       "      <td>C</td>\n",
       "      <td>11.081797</td>\n",
       "      <td>18.828924</td>\n",
       "    </tr>\n",
       "    <tr>\n",
       "      <th>997</th>\n",
       "      <td>B</td>\n",
       "      <td>9.814666</td>\n",
       "      <td>20.488600</td>\n",
       "    </tr>\n",
       "    <tr>\n",
       "      <th>998</th>\n",
       "      <td>E</td>\n",
       "      <td>9.494701</td>\n",
       "      <td>18.476679</td>\n",
       "    </tr>\n",
       "    <tr>\n",
       "      <th>999</th>\n",
       "      <td>B</td>\n",
       "      <td>11.168759</td>\n",
       "      <td>22.733723</td>\n",
       "    </tr>\n",
       "  </tbody>\n",
       "</table>\n",
       "<p>1000 rows × 3 columns</p>\n",
       "</div>"
      ],
      "text/plain": [
       "    categorical_column  numeric_column_1  numeric_column_2\n",
       "0                    J         10.103160         21.953176\n",
       "1                    H          8.448715         21.115959\n",
       "2                    A         10.573965         20.639162\n",
       "3                    D          9.602346         19.095692\n",
       "4                    G         10.596851         19.742418\n",
       "..                 ...               ...               ...\n",
       "995                  B         10.737680         16.773570\n",
       "996                  C         11.081797         18.828924\n",
       "997                  B          9.814666         20.488600\n",
       "998                  E          9.494701         18.476679\n",
       "999                  B         11.168759         22.733723\n",
       "\n",
       "[1000 rows x 3 columns]"
      ]
     },
     "execution_count": 34,
     "metadata": {},
     "output_type": "execute_result"
    }
   ],
   "source": [
    "import pandas as pd\n",
    "import numpy as np\n",
    "\n",
    "\n",
    "data = pd.DataFrame({\n",
    "    'categorical_column': np.random.choice(['A', 'B', 'C', 'D', 'E', 'F', 'G', 'H', 'I', 'J'], size=1000),\n",
    "    'numeric_column_1': np.random.normal(loc=10, scale=1, size=1000),\n",
    "    'numeric_column_2': np.random.normal(loc=20, scale=2, size=1000)\n",
    "})\n",
    "\n",
    "data"
   ]
  },
  {
   "cell_type": "code",
   "execution_count": 35,
   "id": "e9bdce91",
   "metadata": {
    "additional_cells_expected": true,
    "part_id": "ex1-part2",
    "span": "ex1-part2.code",
    "student": true
   },
   "outputs": [
    {
     "data": {
      "text/html": [
       "<div>\n",
       "<style scoped>\n",
       "    .dataframe tbody tr th:only-of-type {\n",
       "        vertical-align: middle;\n",
       "    }\n",
       "\n",
       "    .dataframe tbody tr th {\n",
       "        vertical-align: top;\n",
       "    }\n",
       "\n",
       "    .dataframe thead th {\n",
       "        text-align: right;\n",
       "    }\n",
       "</style>\n",
       "<table border=\"1\" class=\"dataframe\">\n",
       "  <thead>\n",
       "    <tr style=\"text-align: right;\">\n",
       "      <th></th>\n",
       "      <th>numeric_column_1</th>\n",
       "      <th>numeric_column_2</th>\n",
       "    </tr>\n",
       "  </thead>\n",
       "  <tbody>\n",
       "    <tr>\n",
       "      <th>count</th>\n",
       "      <td>1000.000000</td>\n",
       "      <td>1000.000000</td>\n",
       "    </tr>\n",
       "    <tr>\n",
       "      <th>mean</th>\n",
       "      <td>10.008376</td>\n",
       "      <td>19.925708</td>\n",
       "    </tr>\n",
       "    <tr>\n",
       "      <th>std</th>\n",
       "      <td>1.016746</td>\n",
       "      <td>2.019950</td>\n",
       "    </tr>\n",
       "    <tr>\n",
       "      <th>min</th>\n",
       "      <td>6.338598</td>\n",
       "      <td>14.359348</td>\n",
       "    </tr>\n",
       "    <tr>\n",
       "      <th>25%</th>\n",
       "      <td>9.328016</td>\n",
       "      <td>18.558321</td>\n",
       "    </tr>\n",
       "    <tr>\n",
       "      <th>50%</th>\n",
       "      <td>10.049610</td>\n",
       "      <td>19.876855</td>\n",
       "    </tr>\n",
       "    <tr>\n",
       "      <th>75%</th>\n",
       "      <td>10.697953</td>\n",
       "      <td>21.352447</td>\n",
       "    </tr>\n",
       "    <tr>\n",
       "      <th>max</th>\n",
       "      <td>13.175204</td>\n",
       "      <td>25.856736</td>\n",
       "    </tr>\n",
       "  </tbody>\n",
       "</table>\n",
       "</div>"
      ],
      "text/plain": [
       "       numeric_column_1  numeric_column_2\n",
       "count       1000.000000       1000.000000\n",
       "mean          10.008376         19.925708\n",
       "std            1.016746          2.019950\n",
       "min            6.338598         14.359348\n",
       "25%            9.328016         18.558321\n",
       "50%           10.049610         19.876855\n",
       "75%           10.697953         21.352447\n",
       "max           13.175204         25.856736"
      ]
     },
     "execution_count": 35,
     "metadata": {},
     "output_type": "execute_result"
    }
   ],
   "source": [
    "data.describe()"
   ]
  },
  {
   "cell_type": "code",
   "execution_count": 36,
   "id": "d32a8118",
   "metadata": {
    "additional_cells_expected": true,
    "part_id": "ex1-part2",
    "span": "ex1-part2.code",
    "student": true
   },
   "outputs": [
    {
     "data": {
      "text/plain": [
       "array([[<Axes: title={'center': 'numeric_column_1'}>,\n",
       "        <Axes: title={'center': 'numeric_column_2'}>]], dtype=object)"
      ]
     },
     "execution_count": 36,
     "metadata": {},
     "output_type": "execute_result"
    },
    {
     "data": {
      "image/png": "[encoded data removed]",
      "text/plain": [
       "<Figure size 640x480 with 2 Axes>"
      ]
     },
     "metadata": {},
     "output_type": "display_data"
    }
   ],
   "source": [
    "data.hist()"
   ]
  },
  {
   "cell_type": "code",
   "execution_count": 37,
   "id": "89d6dab1",
   "metadata": {
    "additional_cells_expected": true,
    "part_id": "ex1-part2",
    "span": "ex1-part2.code",
    "student": true
   },
   "outputs": [
    {
     "data": {
      "text/plain": [
       "<Axes: >"
      ]
     },
     "execution_count": 37,
     "metadata": {},
     "output_type": "execute_result"
    },
    {
     "data": {
      "image/png": "[encoded data removed]",
      "text/plain": [
       "<Figure size 640x480 with 1 Axes>"
      ]
     },
     "metadata": {},
     "output_type": "display_data"
    }
   ],
   "source": [
    "data.boxplot()"
   ]
  },
  {
   "cell_type": "code",
   "execution_count": 38,
   "id": "df5799fe",
   "metadata": {
    "additional_cells_expected": true,
    "part_id": "ex1-part2",
    "span": "ex1-part2.code",
    "student": true
   },
   "outputs": [
    {
     "data": {
      "text/plain": [
       "<Axes: xlabel='categorical_column'>"
      ]
     },
     "execution_count": 38,
     "metadata": {},
     "output_type": "execute_result"
    },
    {
     "data": {
      "image/png": "[encoded data removed]",
      "text/plain": [
       "<Figure size 640x480 with 1 Axes>"
      ]
     },
     "metadata": {},
     "output_type": "display_data"
    }
   ],
   "source": [
    "data['categorical_column'].value_counts().plot(kind='bar')"
   ]
  },
  {
   "cell_type": "code",
   "execution_count": 39,
   "id": "00be3bf7",
   "metadata": {},
   "outputs": [
    {
     "name": "stdout",
     "output_type": "stream",
     "text": [
      "numeric_column_1 F-Stat 2.5151392552838665\n",
      "numeric_column_1 P-Value 0.007529326650878807\n",
      "numeric_column_2 F-Stat 0.8985175318336626\n",
      "numeric_column_2 P-Value 0.5258804818170412\n"
     ]
    }
   ],
   "source": [
    "from scipy.stats import f_oneway\n",
    "f_stat, p_value = f_oneway(\n",
    "    *[group['numeric_column_1'].values for _, group in data.groupby('categorical_column')]\n",
    ")\n",
    "print('numeric_column_1 F-Stat', f_stat)\n",
    "print('numeric_column_1 P-Value', p_value)\n",
    "f_stat, p_value = f_oneway(\n",
    "    *[group['numeric_column_2'].values for _, group in data.groupby('categorical_column')]\n",
    ")\n",
    "print('numeric_column_2 F-Stat', f_stat)\n",
    "print('numeric_column_2 P-Value', p_value)"
   ]
  },
  {
   "cell_type": "code",
   "execution_count": 40,
   "id": "94125fb3",
   "metadata": {},
   "outputs": [
    {
     "data": {
      "text/html": [
       "<div>\n",
       "<style scoped>\n",
       "    .dataframe tbody tr th:only-of-type {\n",
       "        vertical-align: middle;\n",
       "    }\n",
       "\n",
       "    .dataframe tbody tr th {\n",
       "        vertical-align: top;\n",
       "    }\n",
       "\n",
       "    .dataframe thead tr th {\n",
       "        text-align: left;\n",
       "    }\n",
       "\n",
       "    .dataframe thead tr:last-of-type th {\n",
       "        text-align: right;\n",
       "    }\n",
       "</style>\n",
       "<table border=\"1\" class=\"dataframe\">\n",
       "  <thead>\n",
       "    <tr>\n",
       "      <th></th>\n",
       "      <th colspan=\"5\" halign=\"left\">numeric_column_1</th>\n",
       "      <th colspan=\"5\" halign=\"left\">numeric_column_2</th>\n",
       "    </tr>\n",
       "    <tr>\n",
       "      <th></th>\n",
       "      <th>mean</th>\n",
       "      <th>median</th>\n",
       "      <th>std</th>\n",
       "      <th>min</th>\n",
       "      <th>max</th>\n",
       "      <th>mean</th>\n",
       "      <th>median</th>\n",
       "      <th>std</th>\n",
       "      <th>min</th>\n",
       "      <th>max</th>\n",
       "    </tr>\n",
       "    <tr>\n",
       "      <th>categorical_column</th>\n",
       "      <th></th>\n",
       "      <th></th>\n",
       "      <th></th>\n",
       "      <th></th>\n",
       "      <th></th>\n",
       "      <th></th>\n",
       "      <th></th>\n",
       "      <th></th>\n",
       "      <th></th>\n",
       "      <th></th>\n",
       "    </tr>\n",
       "  </thead>\n",
       "  <tbody>\n",
       "    <tr>\n",
       "      <th>A</th>\n",
       "      <td>10.033223</td>\n",
       "      <td>10.020456</td>\n",
       "      <td>0.910069</td>\n",
       "      <td>7.806765</td>\n",
       "      <td>12.452529</td>\n",
       "      <td>19.511306</td>\n",
       "      <td>19.312526</td>\n",
       "      <td>1.966691</td>\n",
       "      <td>15.926677</td>\n",
       "      <td>25.856736</td>\n",
       "    </tr>\n",
       "    <tr>\n",
       "      <th>B</th>\n",
       "      <td>10.112717</td>\n",
       "      <td>10.147615</td>\n",
       "      <td>0.922192</td>\n",
       "      <td>7.937231</td>\n",
       "      <td>12.055193</td>\n",
       "      <td>19.877248</td>\n",
       "      <td>20.017528</td>\n",
       "      <td>2.124314</td>\n",
       "      <td>15.862781</td>\n",
       "      <td>25.303472</td>\n",
       "    </tr>\n",
       "    <tr>\n",
       "      <th>C</th>\n",
       "      <td>10.003236</td>\n",
       "      <td>10.094869</td>\n",
       "      <td>1.043506</td>\n",
       "      <td>7.190601</td>\n",
       "      <td>13.175204</td>\n",
       "      <td>20.153830</td>\n",
       "      <td>20.515084</td>\n",
       "      <td>1.978885</td>\n",
       "      <td>15.039672</td>\n",
       "      <td>25.571644</td>\n",
       "    </tr>\n",
       "    <tr>\n",
       "      <th>D</th>\n",
       "      <td>9.909270</td>\n",
       "      <td>9.927169</td>\n",
       "      <td>1.029744</td>\n",
       "      <td>7.249829</td>\n",
       "      <td>11.949166</td>\n",
       "      <td>19.840242</td>\n",
       "      <td>19.834351</td>\n",
       "      <td>1.919518</td>\n",
       "      <td>15.515321</td>\n",
       "      <td>25.294799</td>\n",
       "    </tr>\n",
       "    <tr>\n",
       "      <th>E</th>\n",
       "      <td>9.757380</td>\n",
       "      <td>9.686322</td>\n",
       "      <td>1.043823</td>\n",
       "      <td>6.338598</td>\n",
       "      <td>12.683478</td>\n",
       "      <td>20.059094</td>\n",
       "      <td>19.868353</td>\n",
       "      <td>2.120715</td>\n",
       "      <td>15.490895</td>\n",
       "      <td>24.824862</td>\n",
       "    </tr>\n",
       "    <tr>\n",
       "      <th>F</th>\n",
       "      <td>9.888652</td>\n",
       "      <td>9.943043</td>\n",
       "      <td>1.103673</td>\n",
       "      <td>7.416534</td>\n",
       "      <td>12.131101</td>\n",
       "      <td>19.826386</td>\n",
       "      <td>19.856897</td>\n",
       "      <td>1.991698</td>\n",
       "      <td>14.629467</td>\n",
       "      <td>24.540799</td>\n",
       "    </tr>\n",
       "    <tr>\n",
       "      <th>G</th>\n",
       "      <td>10.201094</td>\n",
       "      <td>10.353546</td>\n",
       "      <td>0.917518</td>\n",
       "      <td>7.712707</td>\n",
       "      <td>12.199242</td>\n",
       "      <td>19.795995</td>\n",
       "      <td>19.911199</td>\n",
       "      <td>2.042111</td>\n",
       "      <td>14.596757</td>\n",
       "      <td>23.939121</td>\n",
       "    </tr>\n",
       "    <tr>\n",
       "      <th>H</th>\n",
       "      <td>10.030861</td>\n",
       "      <td>10.114734</td>\n",
       "      <td>0.958421</td>\n",
       "      <td>6.953840</td>\n",
       "      <td>12.234040</td>\n",
       "      <td>20.072849</td>\n",
       "      <td>19.936220</td>\n",
       "      <td>2.171420</td>\n",
       "      <td>14.738601</td>\n",
       "      <td>25.002616</td>\n",
       "    </tr>\n",
       "    <tr>\n",
       "      <th>I</th>\n",
       "      <td>9.926868</td>\n",
       "      <td>9.831419</td>\n",
       "      <td>1.122916</td>\n",
       "      <td>7.238038</td>\n",
       "      <td>13.035879</td>\n",
       "      <td>19.935964</td>\n",
       "      <td>19.709600</td>\n",
       "      <td>1.871153</td>\n",
       "      <td>15.808789</td>\n",
       "      <td>24.516414</td>\n",
       "    </tr>\n",
       "    <tr>\n",
       "      <th>J</th>\n",
       "      <td>10.303990</td>\n",
       "      <td>10.234635</td>\n",
       "      <td>0.966430</td>\n",
       "      <td>8.107407</td>\n",
       "      <td>12.628296</td>\n",
       "      <td>20.136178</td>\n",
       "      <td>20.013120</td>\n",
       "      <td>2.045774</td>\n",
       "      <td>14.359348</td>\n",
       "      <td>23.917779</td>\n",
       "    </tr>\n",
       "  </tbody>\n",
       "</table>\n",
       "</div>"
      ],
      "text/plain": [
       "                   numeric_column_1                                            \\\n",
       "                               mean     median       std       min        max   \n",
       "categorical_column                                                              \n",
       "A                         10.033223  10.020456  0.910069  7.806765  12.452529   \n",
       "B                         10.112717  10.147615  0.922192  7.937231  12.055193   \n",
       "C                         10.003236  10.094869  1.043506  7.190601  13.175204   \n",
       "D                          9.909270   9.927169  1.029744  7.249829  11.949166   \n",
       "E                          9.757380   9.686322  1.043823  6.338598  12.683478   \n",
       "F                          9.888652   9.943043  1.103673  7.416534  12.131101   \n",
       "G                         10.201094  10.353546  0.917518  7.712707  12.199242   \n",
       "H                         10.030861  10.114734  0.958421  6.953840  12.234040   \n",
       "I                          9.926868   9.831419  1.122916  7.238038  13.035879   \n",
       "J                         10.303990  10.234635  0.966430  8.107407  12.628296   \n",
       "\n",
       "                   numeric_column_2                                             \n",
       "                               mean     median       std        min        max  \n",
       "categorical_column                                                              \n",
       "A                         19.511306  19.312526  1.966691  15.926677  25.856736  \n",
       "B                         19.877248  20.017528  2.124314  15.862781  25.303472  \n",
       "C                         20.153830  20.515084  1.978885  15.039672  25.571644  \n",
       "D                         19.840242  19.834351  1.919518  15.515321  25.294799  \n",
       "E                         20.059094  19.868353  2.120715  15.490895  24.824862  \n",
       "F                         19.826386  19.856897  1.991698  14.629467  24.540799  \n",
       "G                         19.795995  19.911199  2.042111  14.596757  23.939121  \n",
       "H                         20.072849  19.936220  2.171420  14.738601  25.002616  \n",
       "I                         19.935964  19.709600  1.871153  15.808789  24.516414  \n",
       "J                         20.136178  20.013120  2.045774  14.359348  23.917779  "
      ]
     },
     "execution_count": 40,
     "metadata": {},
     "output_type": "execute_result"
    }
   ],
   "source": [
    "data.groupby('categorical_column')[['numeric_column_1', 'numeric_column_2']].agg(['mean', 'median', 'std', 'min', 'max'])"
   ]
  },
  {
   "cell_type": "markdown",
   "id": "25320be1",
   "metadata": {
    "problem_id": "2"
   },
   "source": [
    "#### Exercise 2\n",
    "\n",
    "\n",
    "Generate a data set you can use with a supervised ML model.  The data should meet the following criteria:\n",
    "   - It should have 1000 rows\n",
    "   - It should have 6 columns, with one column (your 'target' column being a boolean column), one categorical column with 5 categories, and 4 numeric columns.\n",
    "   - The numeric columns should have dramatically different scales - different means, different std. deviations.\n",
    "   - Each non-target column should have about 5% nulls.\n",
    "\n",
    "Make this data a little more interesting by calculating the target column using a noisy function of the other columns."
   ]
  },
  {
   "cell_type": "code",
   "execution_count": 41,
   "id": "a941ebec",
   "metadata": {
    "additional_cells_expected": true,
    "part_id": "2-part1",
    "span": "2-part1.code",
    "student": true
   },
   "outputs": [
    {
     "data": {
      "text/html": [
       "<div>\n",
       "<style scoped>\n",
       "    .dataframe tbody tr th:only-of-type {\n",
       "        vertical-align: middle;\n",
       "    }\n",
       "\n",
       "    .dataframe tbody tr th {\n",
       "        vertical-align: top;\n",
       "    }\n",
       "\n",
       "    .dataframe thead th {\n",
       "        text-align: right;\n",
       "    }\n",
       "</style>\n",
       "<table border=\"1\" class=\"dataframe\">\n",
       "  <thead>\n",
       "    <tr style=\"text-align: right;\">\n",
       "      <th></th>\n",
       "      <th>categorical_column</th>\n",
       "      <th>numeric_column_1</th>\n",
       "      <th>numeric_column_2</th>\n",
       "      <th>numeric_column_3</th>\n",
       "      <th>numeric_column_4</th>\n",
       "      <th>target</th>\n",
       "    </tr>\n",
       "  </thead>\n",
       "  <tbody>\n",
       "    <tr>\n",
       "      <th>0</th>\n",
       "      <td>E</td>\n",
       "      <td>8.353460</td>\n",
       "      <td>0.316288</td>\n",
       "      <td>-2.152113</td>\n",
       "      <td>52.804159</td>\n",
       "      <td>True</td>\n",
       "    </tr>\n",
       "    <tr>\n",
       "      <th>1</th>\n",
       "      <td>C</td>\n",
       "      <td>9.245360</td>\n",
       "      <td>20.650699</td>\n",
       "      <td>NaN</td>\n",
       "      <td>47.013741</td>\n",
       "      <td>True</td>\n",
       "    </tr>\n",
       "    <tr>\n",
       "      <th>2</th>\n",
       "      <td>A</td>\n",
       "      <td>11.367008</td>\n",
       "      <td>NaN</td>\n",
       "      <td>-21.681537</td>\n",
       "      <td>50.570907</td>\n",
       "      <td>False</td>\n",
       "    </tr>\n",
       "    <tr>\n",
       "      <th>3</th>\n",
       "      <td>D</td>\n",
       "      <td>11.443079</td>\n",
       "      <td>-14.203657</td>\n",
       "      <td>-13.164930</td>\n",
       "      <td>53.043421</td>\n",
       "      <td>False</td>\n",
       "    </tr>\n",
       "    <tr>\n",
       "      <th>4</th>\n",
       "      <td>C</td>\n",
       "      <td>9.447362</td>\n",
       "      <td>22.288049</td>\n",
       "      <td>-5.398518</td>\n",
       "      <td>52.992056</td>\n",
       "      <td>True</td>\n",
       "    </tr>\n",
       "    <tr>\n",
       "      <th>...</th>\n",
       "      <td>...</td>\n",
       "      <td>...</td>\n",
       "      <td>...</td>\n",
       "      <td>...</td>\n",
       "      <td>...</td>\n",
       "      <td>...</td>\n",
       "    </tr>\n",
       "    <tr>\n",
       "      <th>995</th>\n",
       "      <td>A</td>\n",
       "      <td>8.967442</td>\n",
       "      <td>-144.207070</td>\n",
       "      <td>-48.952085</td>\n",
       "      <td>50.025029</td>\n",
       "      <td>False</td>\n",
       "    </tr>\n",
       "    <tr>\n",
       "      <th>996</th>\n",
       "      <td>D</td>\n",
       "      <td>10.958824</td>\n",
       "      <td>94.189891</td>\n",
       "      <td>-49.726081</td>\n",
       "      <td>51.738538</td>\n",
       "      <td>False</td>\n",
       "    </tr>\n",
       "    <tr>\n",
       "      <th>997</th>\n",
       "      <td>NaN</td>\n",
       "      <td>10.016692</td>\n",
       "      <td>-85.441334</td>\n",
       "      <td>-7.233813</td>\n",
       "      <td>49.124874</td>\n",
       "      <td>True</td>\n",
       "    </tr>\n",
       "    <tr>\n",
       "      <th>998</th>\n",
       "      <td>D</td>\n",
       "      <td>10.541341</td>\n",
       "      <td>46.836063</td>\n",
       "      <td>-39.151840</td>\n",
       "      <td>50.767797</td>\n",
       "      <td>False</td>\n",
       "    </tr>\n",
       "    <tr>\n",
       "      <th>999</th>\n",
       "      <td>D</td>\n",
       "      <td>11.538798</td>\n",
       "      <td>-38.628241</td>\n",
       "      <td>3.330250</td>\n",
       "      <td>54.779405</td>\n",
       "      <td>True</td>\n",
       "    </tr>\n",
       "  </tbody>\n",
       "</table>\n",
       "<p>1000 rows × 6 columns</p>\n",
       "</div>"
      ],
      "text/plain": [
       "    categorical_column  numeric_column_1  numeric_column_2  numeric_column_3  \\\n",
       "0                    E          8.353460          0.316288         -2.152113   \n",
       "1                    C          9.245360         20.650699               NaN   \n",
       "2                    A         11.367008               NaN        -21.681537   \n",
       "3                    D         11.443079        -14.203657        -13.164930   \n",
       "4                    C          9.447362         22.288049         -5.398518   \n",
       "..                 ...               ...               ...               ...   \n",
       "995                  A          8.967442       -144.207070        -48.952085   \n",
       "996                  D         10.958824         94.189891        -49.726081   \n",
       "997                NaN         10.016692        -85.441334         -7.233813   \n",
       "998                  D         10.541341         46.836063        -39.151840   \n",
       "999                  D         11.538798        -38.628241          3.330250   \n",
       "\n",
       "     numeric_column_4  target  \n",
       "0           52.804159    True  \n",
       "1           47.013741    True  \n",
       "2           50.570907   False  \n",
       "3           53.043421   False  \n",
       "4           52.992056    True  \n",
       "..                ...     ...  \n",
       "995         50.025029   False  \n",
       "996         51.738538   False  \n",
       "997         49.124874    True  \n",
       "998         50.767797   False  \n",
       "999         54.779405    True  \n",
       "\n",
       "[1000 rows x 6 columns]"
      ]
     },
     "execution_count": 41,
     "metadata": {},
     "output_type": "execute_result"
    }
   ],
   "source": [
    "# Creating inital dataframe with 1 categorical column and 4 numeric\n",
    "data = pd.DataFrame({\n",
    "    'categorical_column': np.random.choice(['A', 'B', 'C', 'D', 'E'], size=1000),\n",
    "    'numeric_column_1': np.random.normal(loc=10, scale=1, size=1000),\n",
    "    'numeric_column_2': np.random.normal(loc=0, scale=50, size=1000),\n",
    "    'numeric_column_3': np.random.normal(loc=-25, scale=20, size=1000),\n",
    "    'numeric_column_4': np.random.normal(loc=50, scale=3, size=1000)\n",
    "})\n",
    "\n",
    "# Making 5% of data in each column null\n",
    "rng = np.random.default_rng()\n",
    "for col in data.columns:\n",
    "    nulls = rng.choice(data.index, size=50, replace=False)\n",
    "    data.loc[nulls, col] = np.nan\n",
    "\n",
    "# Creating Target Column\n",
    "categorical_effects = {'A': 2, 'B': -2, 'C': 1, 'D': -1, 'E': 0}\n",
    "target = (\n",
    "    data['numeric_column_1'].fillna(0) * 0.5 +\n",
    "    data['numeric_column_2'].fillna(0) * -0.01 +\n",
    "    data['numeric_column_3'].fillna(0) * 0.75 +\n",
    "    data['numeric_column_4'].fillna(0) * -2 +\n",
    "    data['categorical_column'].map(categorical_effects).fillna(0) +\n",
    "    rng.normal(0, 1, len(data))\n",
    ")\n",
    "data['target'] = target > np.mean(target)\n",
    "\n",
    "data"
   ]
  },
  {
   "cell_type": "code",
   "execution_count": 42,
   "id": "d660fce9",
   "metadata": {
    "additional_cells_expected": true,
    "part_id": "2-part1",
    "span": "2-part1.code",
    "student": true
   },
   "outputs": [
    {
     "data": {
      "text/html": [
       "<div>\n",
       "<style scoped>\n",
       "    .dataframe tbody tr th:only-of-type {\n",
       "        vertical-align: middle;\n",
       "    }\n",
       "\n",
       "    .dataframe tbody tr th {\n",
       "        vertical-align: top;\n",
       "    }\n",
       "\n",
       "    .dataframe thead th {\n",
       "        text-align: right;\n",
       "    }\n",
       "</style>\n",
       "<table border=\"1\" class=\"dataframe\">\n",
       "  <thead>\n",
       "    <tr style=\"text-align: right;\">\n",
       "      <th></th>\n",
       "      <th>numeric_column_1</th>\n",
       "      <th>numeric_column_2</th>\n",
       "      <th>numeric_column_3</th>\n",
       "      <th>numeric_column_4</th>\n",
       "    </tr>\n",
       "  </thead>\n",
       "  <tbody>\n",
       "    <tr>\n",
       "      <th>count</th>\n",
       "      <td>950.000000</td>\n",
       "      <td>950.000000</td>\n",
       "      <td>950.000000</td>\n",
       "      <td>950.000000</td>\n",
       "    </tr>\n",
       "    <tr>\n",
       "      <th>mean</th>\n",
       "      <td>9.967344</td>\n",
       "      <td>-0.637641</td>\n",
       "      <td>-23.717765</td>\n",
       "      <td>50.111090</td>\n",
       "    </tr>\n",
       "    <tr>\n",
       "      <th>std</th>\n",
       "      <td>0.977474</td>\n",
       "      <td>49.596858</td>\n",
       "      <td>20.270939</td>\n",
       "      <td>2.956653</td>\n",
       "    </tr>\n",
       "    <tr>\n",
       "      <th>min</th>\n",
       "      <td>6.637291</td>\n",
       "      <td>-163.669339</td>\n",
       "      <td>-84.048918</td>\n",
       "      <td>40.358741</td>\n",
       "    </tr>\n",
       "    <tr>\n",
       "      <th>25%</th>\n",
       "      <td>9.293973</td>\n",
       "      <td>-33.756702</td>\n",
       "      <td>-37.231464</td>\n",
       "      <td>48.090967</td>\n",
       "    </tr>\n",
       "    <tr>\n",
       "      <th>50%</th>\n",
       "      <td>9.924703</td>\n",
       "      <td>-1.592930</td>\n",
       "      <td>-23.999479</td>\n",
       "      <td>50.141814</td>\n",
       "    </tr>\n",
       "    <tr>\n",
       "      <th>75%</th>\n",
       "      <td>10.598436</td>\n",
       "      <td>34.090440</td>\n",
       "      <td>-9.667775</td>\n",
       "      <td>52.139186</td>\n",
       "    </tr>\n",
       "    <tr>\n",
       "      <th>max</th>\n",
       "      <td>12.747514</td>\n",
       "      <td>156.094074</td>\n",
       "      <td>48.701934</td>\n",
       "      <td>61.848837</td>\n",
       "    </tr>\n",
       "  </tbody>\n",
       "</table>\n",
       "</div>"
      ],
      "text/plain": [
       "       numeric_column_1  numeric_column_2  numeric_column_3  numeric_column_4\n",
       "count        950.000000        950.000000        950.000000        950.000000\n",
       "mean           9.967344         -0.637641        -23.717765         50.111090\n",
       "std            0.977474         49.596858         20.270939          2.956653\n",
       "min            6.637291       -163.669339        -84.048918         40.358741\n",
       "25%            9.293973        -33.756702        -37.231464         48.090967\n",
       "50%            9.924703         -1.592930        -23.999479         50.141814\n",
       "75%           10.598436         34.090440         -9.667775         52.139186\n",
       "max           12.747514        156.094074         48.701934         61.848837"
      ]
     },
     "execution_count": 42,
     "metadata": {},
     "output_type": "execute_result"
    }
   ],
   "source": [
    "data.describe()"
   ]
  },
  {
   "cell_type": "code",
   "execution_count": 43,
   "id": "5d3e5fd9",
   "metadata": {},
   "outputs": [
    {
     "data": {
      "text/plain": [
       "<Axes: xlabel='categorical_column'>"
      ]
     },
     "execution_count": 43,
     "metadata": {},
     "output_type": "execute_result"
    },
    {
     "data": {
      "image/png": "[encoded data removed]",
      "text/plain": [
       "<Figure size 640x480 with 1 Axes>"
      ]
     },
     "metadata": {},
     "output_type": "display_data"
    }
   ],
   "source": [
    "data['categorical_column'].value_counts().plot(kind='bar')"
   ]
  },
  {
   "cell_type": "code",
   "execution_count": 44,
   "id": "901c50af",
   "metadata": {},
   "outputs": [
    {
     "name": "stdout",
     "output_type": "stream",
     "text": [
      "numeric_column_1 F-Stat 2.223612131853007\n",
      "numeric_column_1 P-Value 0.06468166414101918\n",
      "numeric_column_2 F-Stat 0.19452113570752375\n",
      "numeric_column_2 P-Value 0.9412920511947602\n",
      "numeric_column_3 F-Stat 2.2296496488064417\n",
      "numeric_column_3 P-Value 0.06405392405567571\n",
      "numeric_column_4 F-Stat 0.8962744255553032\n",
      "numeric_column_4 P-Value 0.46552887791804964\n"
     ]
    }
   ],
   "source": [
    "f_stat, p_value = f_oneway(\n",
    "    *[group['numeric_column_1'].dropna().values for _, group in data.groupby('categorical_column')]\n",
    ")\n",
    "print('numeric_column_1 F-Stat', f_stat)\n",
    "print('numeric_column_1 P-Value', p_value)\n",
    "\n",
    "f_stat, p_value = f_oneway(\n",
    "    *[group['numeric_column_2'].dropna().values for _, group in data.groupby('categorical_column')]\n",
    ")\n",
    "print('numeric_column_2 F-Stat', f_stat)\n",
    "print('numeric_column_2 P-Value', p_value)\n",
    "\n",
    "f_stat, p_value = f_oneway(\n",
    "    *[group['numeric_column_3'].dropna().values for _, group in data.groupby('categorical_column')]\n",
    ")\n",
    "print('numeric_column_3 F-Stat', f_stat)\n",
    "print('numeric_column_3 P-Value', p_value)\n",
    "\n",
    "f_stat, p_value = f_oneway(\n",
    "    *[group['numeric_column_4'].dropna().values for _, group in data.groupby('categorical_column')]\n",
    ")\n",
    "print('numeric_column_4 F-Stat', f_stat)\n",
    "print('numeric_column_4 P-Value', p_value)"
   ]
  },
  {
   "cell_type": "markdown",
   "id": "53678de6",
   "metadata": {
    "problem_id": "ex2"
   },
   "source": [
    "#### Exercise 3\n",
    "\n",
    "Use whatever resources you need to figure out how to build an SKLearn ML pipelines. Use a pipeline to build an ML approach to predicting your target column in the preceding data with logistic regression.  I have set up the problem below so that you will write your code in a function function call that takes an SKLearn model and data frame and returns the results of a cross validation scoring routine.  \n",
    "\n",
    "I have not taught you how to do this; use the book, google, the notes, chatgpt, or whatever. This is a test of your ability to *find* information, and use this to construct a solution. Your solution should:\n",
    "\n",
    "- Use a transformer pipeline that processes your numeric and categorical features separately\n",
    "- Place everything in a pipeline with the classifier that is passed in to the function.\n",
    "- I've already implemented the call to cross_val_score - to make it work, you'll need to assign your pipeline to the `pipeline` variable.\n",
    "\n",
    "_Note: You could just feed this question to AI and get an answer, and chances are, it will be right. But if you do, you won't really learn much. So, be thoughtful in your use of AI here - you can use it to build the solution step by step, and it will explain how everything works. It's all in how you use it. So, it's your choice - go for the easy grade, or learn something._"
   ]
  },
  {
   "cell_type": "code",
   "execution_count": 45,
   "id": "f4bd23a7",
   "metadata": {
    "part_id": "ex2-part1",
    "span": "ex2-part1.fill",
    "student": true
   },
   "outputs": [
    {
     "name": "stdout",
     "output_type": "stream",
     "text": [
      "F1 (5-fold): mean=0.861, std=0.019\n",
      "Fold scores: [0.854 0.828 0.882 0.867 0.873]\n"
     ]
    }
   ],
   "source": [
    "# --- Imports\n",
    "import numpy as np\n",
    "import pandas as pd\n",
    "\n",
    "from sklearn.compose import ColumnTransformer\n",
    "from sklearn.impute import SimpleImputer\n",
    "from sklearn.preprocessing import OneHotEncoder, StandardScaler\n",
    "from sklearn.pipeline import Pipeline\n",
    "from sklearn.linear_model import LogisticRegression\n",
    "from sklearn.model_selection import cross_val_score\n",
    "\n",
    "def run_classifier(df,classifier):\n",
    "    # Separate features/target\n",
    "    y = df['target'].astype(int)  # logistic expects numeric; 0/1 from boolean\n",
    "    X = df.drop(columns=['target'])\n",
    "\n",
    "    #You fill in the pipeline definition.  Make sure to:\n",
    "    # - process categorical features (using an imputer and one hot encoder)\n",
    "    # - process numeric features (using an imputer and StandardScaler)\n",
    "    # - define your pipeline using `pipeline = ...`\n",
    "\n",
    "    numeric_features = X.select_dtypes(include=[np.number]).columns\n",
    "    categorical_features = X.select_dtypes(include=['object', 'category']).columns\n",
    "\n",
    "    preprocessor = ColumnTransformer([\n",
    "        ('num', Pipeline([('imputer', SimpleImputer()), ('scaler', StandardScaler())]), numeric_features),\n",
    "        ('cat', Pipeline([('imputer', SimpleImputer(strategy='constant')), ('onehot', OneHotEncoder())]), categorical_features)\n",
    "    ])\n",
    "    pipeline = Pipeline([('preprocessor', preprocessor), ('classifier', classifier)])\n",
    "\n",
    "    # --- 5-fold CV using F1\n",
    "    return cross_val_score(pipeline, X, y, scoring='f1', cv=5)\n",
    "\n",
    "\n",
    "scores = run_classifier(data,LogisticRegression(random_state=42))\n",
    "print(f'F1 (5-fold): mean={scores.mean():.3f}, std={scores.std():.3f}')\n",
    "print('Fold scores:', np.round(scores, 3))"
   ]
  },
  {
   "cell_type": "markdown",
   "id": "0f06eb0b",
   "metadata": {
    "part_id": "ex2-part2"
   },
   "source": [
    "Try using a `RandomForestClassifier` in the preceding pipeline. Just call `run_classifier` with a `RandomForestClassifier`, and print out the results as above."
   ]
  },
  {
   "cell_type": "code",
   "execution_count": 46,
   "id": "a65de74c",
   "metadata": {
    "part_id": "ex2-part2",
    "span": "ex2-part2.code",
    "student": true
   },
   "outputs": [
    {
     "name": "stdout",
     "output_type": "stream",
     "text": [
      "F1 (5-fold): mean=0.901, std=0.018\n",
      "Fold scores: [0.927 0.869 0.901 0.905 0.901]\n"
     ]
    }
   ],
   "source": [
    "# Your code here\n",
    "from sklearn.ensemble import RandomForestClassifier\n",
    "scores = run_classifier(data,RandomForestClassifier())\n",
    "print(f'F1 (5-fold): mean={scores.mean():.3f}, std={scores.std():.3f}')\n",
    "print('Fold scores:', np.round(scores, 3))"
   ]
  },
  {
   "cell_type": "markdown",
   "id": "66bbb3b1",
   "metadata": {
    "part_id": "ex2-part3"
   },
   "source": [
    "Normally, `RandomForestClassifier`s are considered to be more powerful than `LogisticRegression`.  Depending on your data, this may or may not be the case. Reflect on your answers - which one does better here, and why do you think that is?  Once again, you might use AI, but you should probably also try to _understand_ the answer."
   ]
  },
  {
   "cell_type": "markdown",
   "id": "bdb72f7e",
   "metadata": {
    "part_id": "ex2-part3",
    "span": "ex2-part3.answer",
    "student": true
   },
   "source": [
    "With my data, the Random Forest Classifier outperformed logisitc regression. Random Forest achieved an average F1 score of 0.9 whereas logistic regression only scores an average of 0.849. Random Forest is able to capture nonlinear interactions between features and the target, whereas logistic regression assumes that there is a linear relationship between the features and the target variable. Additionally, random forest is able to inherently capture feature splits and interactions as it builds out trees."
   ]
  }
 ],
 "metadata": {
  "kernelspec": {
   "display_name": "Python 3",
   "language": "python",
   "name": "python3"
  },
  "language_info": {
   "codemirror_mode": {
    "name": "ipython",
    "version": 3
   },
   "file_extension": ".py",
   "mimetype": "text/x-python",
   "name": "python",
   "nbconvert_exporter": "python",
   "pygments_lexer": "ipython3",
   "version": "3.12.1"
  }
 },
 "nbformat": 4,
 "nbformat_minor": 5
}
